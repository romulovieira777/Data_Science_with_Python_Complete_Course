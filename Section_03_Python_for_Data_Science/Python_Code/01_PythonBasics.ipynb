{
 "cells": [
  {
   "cell_type": "markdown",
   "id": "feb22b378e9e6513",
   "metadata": {},
   "source": [
    "<div style=\"text-align: center;\">\n",
    "  <h1>Python Basics</h1>\n",
    "</div>\n",
    "\n",
    "<div style=\"text-align: center;\">\n",
    "  <img src=\"https://encrypted-tbn0.gstatic.com/images?q=tbn:ANd9GcTWypWZsoHALkaCFiCFIia8W_KinXGI2Sz1VA&s\" alt=\"teste\" />\n",
    "</div>"
   ]
  },
  {
   "cell_type": "markdown",
   "id": "72a0820167520570",
   "metadata": {},
   "source": [
    "**Welcome** to Python tutorial. For your benefit we have broken down the entire tutorial into multiple parts so that you can take it step by step. Please learn Python in the sequence of the notebooks and topic wise as per the Table of Contents.\n",
    "\n",
    "Wish you a happy Learning!"
   ]
  },
  {
   "cell_type": "markdown",
   "id": "4dc81d93e795387",
   "metadata": {},
   "source": [
    "# Table of Contents\n",
    "1. [Python Keywords](#Python Keywords)\n",
    "2. [Python Identifiers](#Python Identifiers)\n",
    "3. [Comments in Python](#Comments in Python)\n",
    "4. [Python Indentation](#Python Indentation)\n",
    "5. [Python Statement](#Python Statement)"
   ]
  },
  {
   "cell_type": "markdown",
   "id": "ff6fa3e03b9bcd27",
   "metadata": {},
   "source": [
    "# Python Keywords\n",
    "\n",
    "Keywords in Python are reserved words that cannot be used as ordinary identifiers.\n",
    "\n",
    "They must be spelled exactly as they are written.\n",
    "\n",
    "The 35 keywords in Python 3.6 are:\n",
    "\n",
    "<table>\n",
    "  <tr>\n",
    "    <th><b>and</b></th>\n",
    "    <th><b>del</b></th>\n",
    "    <th><b>from</b></th>\n",
    "    <th><b>not</b></th>\n",
    "    <th><b>while</b></th>\n",
    "  </tr>\n",
    "  <tr>\n",
    "    <th><b>as</b></th>\n",
    "    <th><b>elif</b></th>\n",
    "    <th><b>global</b></th>\n",
    "    <th><b>or</b></th>\n",
    "    <th><b>with</b></th>\n",
    "  </tr>\n",
    "  <tr>\n",
    "    <th><b>assert</b></th>\n",
    "    <th><b>else</b></th>\n",
    "    <th><b>if</b></th>\n",
    "    <th><b>pass</b></th>\n",
    "    <th><b>yield</b></th>\n",
    "  </tr>\n",
    "  <tr>\n",
    "    <th><b>break</b></th>\n",
    "    <th><b>except</b></th>\n",
    "    <th><b>import</b></th>\n",
    "    <th><b>print</b></th>\n",
    "  </tr>\n",
    "  <tr>\n",
    "    <th><b>class</b></th>\n",
    "    <th><b>exec</b></th>\n",
    "    <th><b>in</b></th>\n",
    "    <th><b>raise</b></th>\n",
    "  </tr>\n",
    "  <tr>\n",
    "    <th><b>continue</b></th>\n",
    "    <th><b>finally</b></th>\n",
    "    <th><b>is</b></th>\n",
    "    <th><b>return</b></th>\n",
    "  </tr>\n",
    "  <tr>\n",
    "    <th><b>def</b></th>\n",
    "    <th><b>for</b></th>\n",
    "    <th><b>lambda</b></th>\n",
    "    <th><b>try</b></th>\n",
    "  </tr>\n",
    "  <tr>\n",
    "    <th><b>async</b></th>\n",
    "    <th><b>await</b></th>\n",
    "  </tr>\n",
    "</table>\n",
    "\n",
    "\n",
    "\n",
    "\n",
    "\n"
   ]
  },
  {
   "cell_type": "code",
   "execution_count": 1,
   "id": "e62a12ab3cc4e66f",
   "metadata": {
    "jupyter": {
     "is_executing": true
    }
   },
   "outputs": [
    {
     "name": "stdout",
     "output_type": "stream",
     "text": [
      "['False', 'None', 'True', 'and', 'as', 'assert', 'async', 'await', 'break', 'class', 'continue', 'def', 'del', 'elif', 'else', 'except', 'finally', 'for', 'from', 'global', 'if', 'import', 'in', 'is', 'lambda', 'nonlocal', 'not', 'or', 'pass', 'raise', 'return', 'try', 'while', 'with', 'yield']\n"
     ]
    }
   ],
   "source": [
    "# To extract all keywords in python use the below code\n",
    "import keyword\n",
    "\n",
    "\n",
    "print(keyword.kwlist)"
   ]
  },
  {
   "cell_type": "code",
   "execution_count": 2,
   "id": "ebc7772ad53dab83",
   "metadata": {
    "jupyter": {
     "is_executing": true
    }
   },
   "outputs": [
    {
     "name": "stdout",
     "output_type": "stream",
     "text": [
      "35\n"
     ]
    }
   ],
   "source": [
    "# Number of keywords are\n",
    "print(len(keyword.kwlist))"
   ]
  },
  {
   "cell_type": "markdown",
   "id": "45b08e4a774d85a2",
   "metadata": {},
   "source": [
    "# Python Identifiers\n",
    "\n",
    "Identifiers (also referred to as names) is given to entities like class, functions, variables etc. In Python. It helps differentiating one entity from another.\n",
    "\n",
    "Rules for writing identifiers:\n",
    "\n",
    "   1. Identifiers can be a combination of letters in lowercase (a to z) or uppercase (A to Z) or digits (0 to 9) or an underscore (_).\n",
    "   2. An identifier cannot start with a digit. '**99somename**' is invalid, but '**somename99**' is perfectly fine.\n",
    "   3. Keywords cannot be used as identifiers. "
   ]
  },
  {
   "cell_type": "code",
   "execution_count": 3,
   "id": "b7d68b1966bf9802",
   "metadata": {},
   "outputs": [
    {
     "ename": "SyntaxError",
     "evalue": "invalid decimal literal (1624289842.py, line 2)",
     "output_type": "error",
     "traceback": [
      "\u001b[1;36m  Cell \u001b[1;32mIn[3], line 2\u001b[1;36m\u001b[0m\n\u001b[1;33m    99somename = 10\u001b[0m\n\u001b[1;37m     ^\u001b[0m\n\u001b[1;31mSyntaxError\u001b[0m\u001b[1;31m:\u001b[0m invalid decimal literal\n"
     ]
    }
   ],
   "source": [
    "# 99someanem Wrong way of defining identifier\n",
    "99somename = 10"
   ]
  },
  {
   "cell_type": "code",
   "execution_count": 4,
   "id": "89d4a618be0c9178",
   "metadata": {},
   "outputs": [
    {
     "name": "stdout",
     "output_type": "stream",
     "text": [
      "10\n"
     ]
    }
   ],
   "source": [
    "# somename99 Right way of defining identifier\n",
    "somename99 = 10\n",
    "print(somename99)"
   ]
  },
  {
   "cell_type": "code",
   "execution_count": 5,
   "id": "18fdc9eddfef5c53",
   "metadata": {},
   "outputs": [
    {
     "ename": "SyntaxError",
     "evalue": "invalid syntax (1839090730.py, line 2)",
     "output_type": "error",
     "traceback": [
      "\u001b[1;36m  Cell \u001b[1;32mIn[5], line 2\u001b[1;36m\u001b[0m\n\u001b[1;33m    break = 10\u001b[0m\n\u001b[1;37m          ^\u001b[0m\n\u001b[1;31mSyntaxError\u001b[0m\u001b[1;31m:\u001b[0m invalid syntax\n"
     ]
    }
   ],
   "source": [
    "# Cannot use keywords as identifiers\n",
    "break = 10"
   ]
  },
  {
   "cell_type": "markdown",
   "id": "ffe40b5370150adf",
   "metadata": {},
   "source": [
    "We cannot use special symbols like !, @, #, $, % etc. in our identifier."
   ]
  },
  {
   "cell_type": "code",
   "execution_count": 6,
   "id": "b26edec385501873",
   "metadata": {},
   "outputs": [
    {
     "ename": "SyntaxError",
     "evalue": "invalid syntax (2317359843.py, line 2)",
     "output_type": "error",
     "traceback": [
      "\u001b[1;36m  Cell \u001b[1;32mIn[6], line 2\u001b[1;36m\u001b[0m\n\u001b[1;33m    hello@ = 10\u001b[0m\n\u001b[1;37m           ^\u001b[0m\n\u001b[1;31mSyntaxError\u001b[0m\u001b[1;31m:\u001b[0m invalid syntax\n"
     ]
    }
   ],
   "source": [
    "# hello@ can't use special symbols as identifiers\n",
    "hello@ = 10\n",
    "print(hello@)"
   ]
  },
  {
   "cell_type": "markdown",
   "id": "ebe0a80141623367",
   "metadata": {},
   "source": [
    "## Few more correct identifiers"
   ]
  },
  {
   "cell_type": "code",
   "execution_count": 7,
   "id": "204cb6ab9f89c945",
   "metadata": {},
   "outputs": [
    {
     "name": "stdout",
     "output_type": "stream",
     "text": [
      "10\n"
     ]
    }
   ],
   "source": [
    "hello = 10\n",
    "print(hello)"
   ]
  },
  {
   "cell_type": "code",
   "execution_count": 8,
   "id": "145c8160-e6a3-417e-bbb9-a890df18dfc0",
   "metadata": {},
   "outputs": [
    {
     "name": "stdout",
     "output_type": "stream",
     "text": [
      "20\n"
     ]
    }
   ],
   "source": [
    "hello123 = 20\n",
    "print(hello123)"
   ]
  },
  {
   "cell_type": "code",
   "execution_count": 9,
   "id": "0c064f0c-57db-48f4-8bfd-9e908ef9fd3a",
   "metadata": {},
   "outputs": [
    {
     "name": "stdout",
     "output_type": "stream",
     "text": [
      "30\n"
     ]
    }
   ],
   "source": [
    "hello_12 = 30\n",
    "print(hello_12)"
   ]
  },
  {
   "cell_type": "markdown",
   "id": "dda18043f06a77b6",
   "metadata": {},
   "source": [
    "## Comments in Python\n",
    "\n",
    "A comment may appear at the start of a line or following whitespace or code, but now within a string literal.\n",
    "A hash character within a string literal is just a hash character.\n",
    "Comments are lines that are ignored by compilers and interpreter.\n",
    "\n",
    "\n",
    "### **This is one of the best way to convey the idea behind the code and people reusing your code can easily make sense of your code.**\n",
    "\n",
    "\n",
    "**Single Line Comment**"
   ]
  },
  {
   "cell_type": "code",
   "execution_count": 10,
   "id": "e1e031b9df79de5a",
   "metadata": {},
   "outputs": [],
   "source": [
    "# This is a single line comment. Has no effect on the code below. Here i have assigned 10 to the variable which is add\n",
    "abd = 10"
   ]
  },
  {
   "cell_type": "markdown",
   "id": "466bf92c624e9f54",
   "metadata": {},
   "source": [
    "**Multi Line Comment**"
   ]
  },
  {
   "cell_type": "code",
   "execution_count": 11,
   "id": "a2aa0dd8509d3b6f",
   "metadata": {},
   "outputs": [],
   "source": [
    "# You can write multiple lines of comments by putting a '#' at the beginning\n",
    "# You can write multiple lines of comments by putting a '#' at the beginning\n",
    "# You can write multiple lines of comments by putting a '#' at the beginning"
   ]
  },
  {
   "cell_type": "code",
   "execution_count": 12,
   "id": "eebe72a4af8a2ebb",
   "metadata": {},
   "outputs": [
    {
     "data": {
      "text/plain": [
       "'\\nA better option to write nulti line comments is by adding all your\\ntext between a set of 3-single or 3-double quotes. Like we have done here.\\n'"
      ]
     },
     "execution_count": 12,
     "metadata": {},
     "output_type": "execute_result"
    }
   ],
   "source": [
    "'''\n",
    "A better option to write nulti line comments is by adding all your\n",
    "text between a set of 3-single or 3-double quotes. Like we have done here.\n",
    "'''"
   ]
  },
  {
   "cell_type": "code",
   "execution_count": 13,
   "id": "f3cb701cb60901d4",
   "metadata": {},
   "outputs": [
    {
     "data": {
      "text/plain": [
       "'\\nA better option to write nulti line comments is by adding all your\\ntext between a set of 3-single or 3-double quotes. Like we have done here.\\n'"
      ]
     },
     "execution_count": 13,
     "metadata": {},
     "output_type": "execute_result"
    }
   ],
   "source": [
    "\"\"\"\n",
    "A better option to write nulti line comments is by adding all your\n",
    "text between a set of 3-single or 3-double quotes. Like we have done here.\n",
    "\"\"\""
   ]
  },
  {
   "cell_type": "markdown",
   "id": "ad8f9e2a-8b27-4c6a-ba5b-ee5f641eda43",
   "metadata": {},
   "source": [
    "## **Docstring**\n",
    "\n",
    "\n",
    "Docstring is short for documentation string.\n",
    "\n",
    "String that occurs as the first statement in a module, function, class, or method definition.\n",
    "Used to define what a function/class does."
   ]
  },
  {
   "cell_type": "code",
   "execution_count": 14,
   "id": "61ba89895d391727",
   "metadata": {},
   "outputs": [
    {
     "name": "stdout",
     "output_type": "stream",
     "text": [
      "400\n"
     ]
    }
   ],
   "source": [
    "def square(num):\n",
    "    \"\"\"\n",
    "    Function to square a number.\n",
    "    Print this docstring using __doc__ attribute of the function.\n",
    "    \"\"\"\n",
    "    return num * num\n",
    "\n",
    "\n",
    "print(square(20))"
   ]
  },
  {
   "cell_type": "code",
   "execution_count": 15,
   "id": "f4aebed255471f0d",
   "metadata": {},
   "outputs": [
    {
     "name": "stdout",
     "output_type": "stream",
     "text": [
      "\n",
      "    Function to square a number.\n",
      "    Print this docstring using __doc__ attribute of the function.\n",
      "    \n"
     ]
    }
   ],
   "source": [
    "# To print the docstring of a function use the __doc__ attribute of the function\n",
    "print(square.__doc__)"
   ]
  },
  {
   "cell_type": "code",
   "execution_count": 16,
   "id": "b8bf4c13c41a9a4c",
   "metadata": {},
   "outputs": [
    {
     "data": {
      "text/plain": [
       "<function __main__.square(num)>"
      ]
     },
     "execution_count": 16,
     "metadata": {},
     "output_type": "execute_result"
    }
   ],
   "source": [
    "# Press Shift+Tab to view the docstring of the function\n",
    "square"
   ]
  }
 ],
 "metadata": {
  "kernelspec": {
   "display_name": "Python 3 (ipykernel)",
   "language": "python",
   "name": "python3"
  },
  "language_info": {
   "codemirror_mode": {
    "name": "ipython",
    "version": 3
   },
   "file_extension": ".py",
   "mimetype": "text/x-python",
   "name": "python",
   "nbconvert_exporter": "python",
   "pygments_lexer": "ipython3",
   "version": "3.12.1"
  }
 },
 "nbformat": 4,
 "nbformat_minor": 5
}
