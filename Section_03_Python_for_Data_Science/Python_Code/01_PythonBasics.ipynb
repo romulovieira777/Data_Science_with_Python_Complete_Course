{
 "cells": [
  {
   "metadata": {},
   "cell_type": "markdown",
   "source": [
    "<div style=\"text-align: center;\">\n",
    "  <h1>Python Basics</h1>\n",
    "</div>\n",
    "\n",
    "<div style=\"text-align: center;\">\n",
    "  <img src=\"https://encrypted-tbn0.gstatic.com/images?q=tbn:ANd9GcTWypWZsoHALkaCFiCFIia8W_KinXGI2Sz1VA&s\" alt=\"teste\" />\n",
    "</div>"
   ],
   "id": "feb22b378e9e6513"
  },
  {
   "metadata": {},
   "cell_type": "markdown",
   "source": [
    "**Welcome** to Python tutorial. For your benefit we have broken down the entire tutorial into multiple parts so that you can take it step by step. Please learn Python in the sequence of the notebooks and topic wise as per the Table of Contents.\n",
    "\n",
    "Wish you a happy Learning!"
   ],
   "id": "72a0820167520570"
  },
  {
   "metadata": {},
   "cell_type": "markdown",
   "source": [
    "# Table of Contents\n",
    "1. [Python Keywords](#Python Keywords)\n",
    "2. [Python Identifiers](#Python Identifiers)\n",
    "3. [Comments in Python](#Comments in Python)\n",
    "4. [Python Indentation](#Python Indentation)\n",
    "5. [Python Statement](#Python Statement)"
   ],
   "id": "4dc81d93e795387"
  },
  {
   "metadata": {},
   "cell_type": "markdown",
   "source": [
    "# Python Keywords\n",
    "\n",
    "Keywords in Python are reserved words that cannot be used as ordinary identifiers.\n",
    "\n",
    "They must be spelled exactly as they are written.\n",
    "\n",
    "The 35 keywords in Python are:\n",
    "\n",
    "<table>\n",
    "  <tr>\n",
    "    <th><b>and</b></th>\n",
    "    <th><b>del</b></th>\n",
    "    <th><b>from</b></th>\n",
    "    <th><b>not</b></th>\n",
    "    <th><b>while</b></th>\n",
    "  </tr>\n",
    "  <tr>\n",
    "    <th><b>as</b></th>\n",
    "    <th><b>elif</b></th>\n",
    "    <th><b>global</b></th>\n",
    "    <th><b>or</b></th>\n",
    "    <th><b>with</b></th>\n",
    "  </tr>\n",
    "  <tr>\n",
    "    <th><b>assert</b></th>\n",
    "    <th><b>else</b></th>\n",
    "    <th><b>if</b></th>\n",
    "    <th><b>pass</b></th>\n",
    "    <th><b>yield</b></th>\n",
    "  </tr>\n",
    "  <tr>\n",
    "    <th><b>break</b></th>\n",
    "    <th><b>except</b></th>\n",
    "    <th><b>import</b></th>\n",
    "    <th><b>print</b></th>\n",
    "  </tr>\n",
    "  <tr>\n",
    "    <th><b>class</b></th>\n",
    "    <th><b>exec</b></th>\n",
    "    <th><b>in</b></th>\n",
    "    <th><b>raise</b></th>\n",
    "  </tr>\n",
    "  <tr>\n",
    "    <th><b>continue</b></th>\n",
    "    <th><b>finally</b></th>\n",
    "    <th><b>is</b></th>\n",
    "    <th><b>return</b></th>\n",
    "  </tr>\n",
    "  <tr>\n",
    "    <th><b>def</b></th>\n",
    "    <th><b>for</b></th>\n",
    "    <th><b>lambda</b></th>\n",
    "    <th><b>try</b></th>\n",
    "  </tr>\n",
    "  <tr>\n",
    "    <th><b>async</b></th>\n",
    "    <th><b>await</b></th>\n",
    "  </tr>\n",
    "</table>\n",
    "\n",
    "\n",
    "\n",
    "\n",
    "\n"
   ],
   "id": "ff6fa3e03b9bcd27"
  },
  {
   "metadata": {},
   "cell_type": "code",
   "outputs": [],
   "execution_count": null,
   "source": "",
   "id": "e62a12ab3cc4e66f"
  }
 ],
 "metadata": {
  "kernelspec": {
   "display_name": "Python 3",
   "language": "python",
   "name": "python3"
  },
  "language_info": {
   "codemirror_mode": {
    "name": "ipython",
    "version": 2
   },
   "file_extension": ".py",
   "mimetype": "text/x-python",
   "name": "python",
   "nbconvert_exporter": "python",
   "pygments_lexer": "ipython2",
   "version": "2.7.6"
  }
 },
 "nbformat": 4,
 "nbformat_minor": 5
}
